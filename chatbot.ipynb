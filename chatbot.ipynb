{
 "cells": [
  {
   "cell_type": "code",
   "execution_count": 70,
   "metadata": {},
   "outputs": [],
   "source": [
    "# 2025/6/25\n",
    "# zhangzhong\n",
    "# chatbot"
   ]
  },
  {
   "cell_type": "code",
   "execution_count": 71,
   "metadata": {},
   "outputs": [],
   "source": [
    "# I do not want to use langgraph actually\n",
    "# I want to try graphrag"
   ]
  },
  {
   "cell_type": "code",
   "execution_count": 72,
   "metadata": {},
   "outputs": [],
   "source": [
    "from utils import load_env\n",
    "load_env()"
   ]
  },
  {
   "cell_type": "code",
   "execution_count": 73,
   "metadata": {},
   "outputs": [],
   "source": [
    "# https://python.langchain.com/docs/integrations/chat/deepseek/\n",
    "from langchain_deepseek import ChatDeepSeek\n",
    "\n",
    "\n",
    "model = ChatDeepSeek(\n",
    "    model=\"deepseek-chat\",\n",
    "    temperature=0,\n",
    "    max_tokens=None,\n",
    "    timeout=None,\n",
    "    max_retries=2,\n",
    "    # other params...\n",
    ")\n"
   ]
  },
  {
   "cell_type": "code",
   "execution_count": 74,
   "metadata": {},
   "outputs": [],
   "source": [
    "# conversation最本质的点其实就是把之前的聊天记录一起发给大模型而已"
   ]
  },
  {
   "cell_type": "code",
   "execution_count": 75,
   "metadata": {},
   "outputs": [],
   "source": [
    "# LangGraph implements a built-in persistence layer, making it ideal for chat applications that support multiple conversational turns.\n",
    "# 相比于之前版本的embedding + vector db. langgraph用了图，可以更好的处理多轮对话，之前是DAG，无环的，不好处理重试这样的逻辑\n",
    "# langgraph可以带环，可以重复，大概是这样理解吧，现在还不是特别理解，先构建一个例子，然后再去研究底层吧"
   ]
  },
  {
   "cell_type": "code",
   "execution_count": 76,
   "metadata": {},
   "outputs": [],
   "source": [
    "from langgraph.checkpoint.memory import MemorySaver\n",
    "from langgraph.graph import START, MessagesState, StateGraph\n",
    "\n",
    "# class MessagesState(TypedDict):\n",
    "#     messages: Annotated[list[AnyMessage], add_messages]\n",
    "# Define a new graph\n",
    "# A graph whose nodes communicate by reading and writing to a [shared] state\n",
    "# 所以每个节点过去之后，saver都会更新同一个messages state，也就是往里append消息\n",
    "workflow = StateGraph(state_schema=MessagesState)\n",
    "\n",
    "# Define the function that calls the model\n",
    "# 所以，这里的call model传入的消息会越来越多，因为每次调用都会把之前的消息都传进去\n",
    "def call_model(state: MessagesState):\n",
    "    response = model.invoke(state[\"messages\"])\n",
    "    return {\"messages\": response}\n",
    "\n",
    "\n",
    "# define the single node in the graph\n",
    "workflow.add_edge(START, \"model\")\n",
    "workflow.add_node(\"model\", call_model)\n",
    "\n",
    "# Add memory\n",
    "# # The checkpointer saves the state after each node\n",
    "memory = MemorySaver()\n",
    "app = workflow.compile(checkpointer=memory)\n",
    "\n",
    "# STATE in LangGraph represents the current data and context that flows through your workflow graph.\n",
    "# {\n",
    "#     \"messages\": [\n",
    "#         HumanMessage(\"Hello!\"),\n",
    "#         AIMessage(\"Hi there! How can I help you?\"),\n",
    "#         HumanMessage(\"What's the weather like?\"),\n",
    "#         # ... more messages\n",
    "#     ]\n",
    "# }"
   ]
  },
  {
   "cell_type": "code",
   "execution_count": 77,
   "metadata": {},
   "outputs": [],
   "source": [
    "config = {\"configurable\": {\"thread_id\": \"abc123\"}}\n",
    "# This enables us to support multiple conversation threads with a single application"
   ]
  },
  {
   "cell_type": "code",
   "execution_count": 78,
   "metadata": {},
   "outputs": [
    {
     "name": "stdout",
     "output_type": "stream",
     "text": [
      "================================\u001b[1m Human Message \u001b[0m=================================\n",
      "\n",
      "Hi! I'm Bob.\n",
      "==================================\u001b[1m Ai Message \u001b[0m==================================\n",
      "\n",
      "Hi Bob! 👋 How's it going? What can I do for you today? 😊\n"
     ]
    }
   ],
   "source": [
    "from langchain_core.messages import HumanMessage\n",
    "\n",
    "query = \"Hi! I'm Bob.\"\n",
    "\n",
    "input_messages = [HumanMessage(query)]\n",
    "output = app.invoke({\"messages\": input_messages}, config)\n",
    "for message in output[\"messages\"]:\n",
    "    message.pretty_print()  # output contains all messages in state"
   ]
  },
  {
   "cell_type": "code",
   "execution_count": 79,
   "metadata": {},
   "outputs": [
    {
     "name": "stdout",
     "output_type": "stream",
     "text": [
      "================================\u001b[1m Human Message \u001b[0m=================================\n",
      "\n",
      "what is my name\n",
      "==================================\u001b[1m Ai Message \u001b[0m==================================\n",
      "\n",
      "I don’t have access to personal information unless you share it with me. Could you tell me your name? I’d be happy to address you by it! 😊\n"
     ]
    }
   ],
   "source": [
    "config = {\"configurable\": {\"thread_id\": \"asdf\"}}\n",
    "\n",
    "input_messages = [HumanMessage(\"what is my name\")]\n",
    "output = app.invoke({\"messages\": input_messages}, config)\n",
    "for message in output[\"messages\"]:\n",
    "    message.pretty_print()"
   ]
  },
  {
   "cell_type": "code",
   "execution_count": 80,
   "metadata": {},
   "outputs": [],
   "source": [
    "# Async function for node: I like Async!\n",
    "# async def call_model(state: MessagesState):\n",
    "#     response = await model.ainvoke(state[\"messages\"])\n",
    "#     return {\"messages\": response}\n",
    "\n",
    "\n",
    "# # Define graph as before:\n",
    "# workflow = StateGraph(state_schema=MessagesState)\n",
    "# workflow.add_edge(START, \"model\")\n",
    "# workflow.add_node(\"model\", call_model)\n",
    "# app = workflow.compile(checkpointer=MemorySaver())\n",
    "\n",
    "# # Async invocation:\n",
    "# output = await app.ainvoke({\"messages\": input_messages}, config)\n",
    "# output[\"messages\"][-1].pretty_print()"
   ]
  },
  {
   "cell_type": "code",
   "execution_count": 81,
   "metadata": {},
   "outputs": [],
   "source": [
    "# https://python.langchain.com/docs/tutorials/chatbot/#prompt-templates\n",
    "# Prompt Templates help to turn raw user information into a format that the LLM can work with.\n",
    "\n",
    "from langchain_core.prompts import ChatPromptTemplate, MessagesPlaceholder\n",
    "\n",
    "prompt_template = ChatPromptTemplate.from_messages(\n",
    "    [\n",
    "        (\n",
    "            \"system\",\n",
    "            \"You talk like a pirate. Answer all questions to the best of your ability.\",\n",
    "        ),\n",
    "        MessagesPlaceholder(variable_name=\"messages\"),\n",
    "    ]\n",
    ")"
   ]
  },
  {
   "cell_type": "code",
   "execution_count": 82,
   "metadata": {},
   "outputs": [],
   "source": [
    "workflow = StateGraph(state_schema=MessagesState)\n",
    "\n",
    "\n",
    "def call_model(state: MessagesState):\n",
    "    prompt = prompt_template.invoke(state)\n",
    "    response = model.invoke(prompt)\n",
    "    return {\"messages\": response}\n",
    "\n",
    "\n",
    "workflow.add_edge(START, \"model\")\n",
    "workflow.add_node(\"model\", call_model)\n",
    "\n",
    "memory = MemorySaver()\n",
    "app = workflow.compile(checkpointer=memory)"
   ]
  },
  {
   "cell_type": "code",
   "execution_count": 83,
   "metadata": {},
   "outputs": [
    {
     "name": "stdout",
     "output_type": "stream",
     "text": [
      "================================\u001b[1m Human Message \u001b[0m=================================\n",
      "\n",
      "Hi! I'm Jim.\n",
      "==================================\u001b[1m Ai Message \u001b[0m==================================\n",
      "\n",
      "Ahoy there, Jim! *adjusts eye patch* Welcome aboard me ship o' words! What brings ye to these treacherous waters today? Be ye lookin' for tales o' adventure, answers to yer burnin' questions, or just a friendly chat with a salty ol' pirate like meself? *leans in, wooden leg creaking* \n",
      "\n",
      "Ye've got me full attention, matey - unless, o' course, the rum's gone missin' again. *winks* \n",
      "\n",
      "Now speak yer mind, or prepare to walk the plank o' curiosity! Arr!\n"
     ]
    }
   ],
   "source": [
    "config = {\"configurable\": {\"thread_id\": \"abc345\"}}\n",
    "query = \"Hi! I'm Jim.\"\n",
    "\n",
    "input_messages = [HumanMessage(query)]\n",
    "output = app.invoke({\"messages\": input_messages}, config)\n",
    "for message in output[\"messages\"]:\n",
    "    message.pretty_print()"
   ]
  },
  {
   "cell_type": "code",
   "execution_count": 84,
   "metadata": {},
   "outputs": [],
   "source": [
    "# the key needed by the prompt template\n",
    "# should be stored in the state\n",
    "# so we need to define a new sate ourself\n",
    "\n",
    "prompt_template = ChatPromptTemplate.from_messages(\n",
    "    [\n",
    "        (\n",
    "            \"system\",\n",
    "            \"You are a helpful assistant. Answer all questions to the best of your ability in {language}.\",\n",
    "        ),\n",
    "        MessagesPlaceholder(variable_name=\"messages\"),\n",
    "    ]\n",
    ")"
   ]
  },
  {
   "cell_type": "code",
   "execution_count": 85,
   "metadata": {},
   "outputs": [],
   "source": [
    "from typing import Sequence\n",
    "\n",
    "from langchain_core.messages import BaseMessage\n",
    "from langgraph.graph.message import add_messages\n",
    "from typing_extensions import Annotated, TypedDict\n",
    "\n",
    "\n",
    "class State(TypedDict):\n",
    "    messages: Annotated[Sequence[BaseMessage], add_messages]\n",
    "    language: str\n",
    "\n",
    "\n",
    "workflow = StateGraph(state_schema=State)\n",
    "\n",
    "\n",
    "def call_model(state: State):\n",
    "    prompt = prompt_template.invoke(state)\n",
    "    response = model.invoke(prompt)\n",
    "    return {\"messages\": [response]}\n",
    "\n",
    "\n",
    "workflow.add_edge(START, \"model\")\n",
    "workflow.add_node(\"model\", call_model)\n",
    "\n",
    "memory = MemorySaver()\n",
    "app = workflow.compile(checkpointer=memory)"
   ]
  },
  {
   "cell_type": "code",
   "execution_count": 86,
   "metadata": {},
   "outputs": [
    {
     "name": "stdout",
     "output_type": "stream",
     "text": [
      "================================\u001b[1m Human Message \u001b[0m=================================\n",
      "\n",
      "Hi! I'm Bob.\n",
      "==================================\u001b[1m Ai Message \u001b[0m==================================\n",
      "\n",
      "¡Hola, Bob! ¿Cómo estás? ¿En qué puedo ayudarte hoy? 😊\n"
     ]
    }
   ],
   "source": [
    "config = {\"configurable\": {\"thread_id\": \"abc456\"}}\n",
    "query = \"Hi! I'm Bob.\"\n",
    "language = \"Spanish\"\n",
    "\n",
    "input_messages = [HumanMessage(query)]\n",
    "output = app.invoke(\n",
    "    {\"messages\": input_messages, \"language\": language},\n",
    "    config,\n",
    ")\n",
    "\n",
    "for message in output[\"messages\"]:\n",
    "    message.pretty_print()"
   ]
  },
  {
   "cell_type": "code",
   "execution_count": 87,
   "metadata": {},
   "outputs": [
    {
     "name": "stdout",
     "output_type": "stream",
     "text": [
      "==================================\u001b[1m Ai Message \u001b[0m==================================\n",
      "\n",
      "¡Tu nombre es **Bob**! 😊 ¿Hay algo más en lo que pueda ayudarte, Bob?\n"
     ]
    }
   ],
   "source": [
    "query = \"What is my name?\"\n",
    "\n",
    "# Note that the entire state is persisted, so we can omit parameters like language if no changes are desired\n",
    "# 这个点挺好的！也就是说，saver实际上采取的[合并策略]，而不是覆盖策略\n",
    "# 包括list是append，dict是merge\n",
    "input_messages = [HumanMessage(query)]\n",
    "output = app.invoke(\n",
    "    {\"messages\": input_messages},\n",
    "    config,\n",
    ")\n",
    "output[\"messages\"][-1].pretty_print()"
   ]
  },
  {
   "cell_type": "code",
   "execution_count": 88,
   "metadata": {},
   "outputs": [],
   "source": [
    "# https://python.langchain.com/docs/tutorials/chatbot/#managing-conversation-history\n",
    "\n",
    "# 1. load previous messages from Message\n",
    "# 2. truncate the messages to the last 10 messages\n",
    "# 3. add to prompt template\n",
    "\n",
    "from langchain_core.messages import SystemMessage, trim_messages\n",
    "from langchain_core.messages import HumanMessage, AIMessage\n",
    "\n",
    "# trimmer = trim_messages(\n",
    "#     max_tokens=65,\n",
    "#     strategy=\"last\",\n",
    "#     token_counter=model,\n",
    "#     include_system=True,\n",
    "#     allow_partial=False,\n",
    "#     start_on=\"human\",\n",
    "# )\n",
    "\n",
    "# messages = [\n",
    "#     SystemMessage(content=\"you're a good assistant\"),\n",
    "#     HumanMessage(content=\"hi! I'm bob\"),\n",
    "#     AIMessage(content=\"hi!\"),\n",
    "#     HumanMessage(content=\"I like vanilla ice cream\"),\n",
    "#     AIMessage(content=\"nice\"),\n",
    "#     HumanMessage(content=\"whats 2 + 2\"),\n",
    "#     AIMessage(content=\"4\"),\n",
    "#     HumanMessage(content=\"thanks\"),\n",
    "#     AIMessage(content=\"no problem!\"),\n",
    "#     HumanMessage(content=\"having fun?\"),\n",
    "#     AIMessage(content=\"yes!\"),\n",
    "# ]\n",
    "\n",
    "# trimmer.invoke(messages)"
   ]
  },
  {
   "cell_type": "code",
   "execution_count": 89,
   "metadata": {},
   "outputs": [],
   "source": [
    "# 这种方式也挺好的，这应该是最简单的方式\n",
    "\n",
    "# workflow = StateGraph(state_schema=State)\n",
    "\n",
    "\n",
    "# def call_model(state: State):\n",
    "#     trimmed_messages = trimmer.invoke(state[\"messages\"])\n",
    "#     prompt = prompt_template.invoke(\n",
    "#         {\"messages\": trimmed_messages, \"language\": state[\"language\"]}\n",
    "#     )\n",
    "#     response = model.invoke(prompt)\n",
    "#     return {\"messages\": [response]}\n",
    "\n",
    "\n",
    "# workflow.add_edge(START, \"model\")\n",
    "# workflow.add_node(\"model\", call_model)\n",
    "\n",
    "# memory = MemorySaver()\n",
    "# app = workflow.compile(checkpointer=memory)"
   ]
  },
  {
   "cell_type": "code",
   "execution_count": 90,
   "metadata": {},
   "outputs": [
    {
     "name": "stdout",
     "output_type": "stream",
     "text": [
      "|Hi| Todd|!| Here|'s| a| joke| for| you|:|  \n",
      "\n",
      "|**|Why| don|’|t| skeletons| fight| each| other|?|**|  \n",
      "|*|Because| they| don|’|t| have| the| guts|!|*|  \n",
      "\n",
      "|Hope| that| gives| you| a| chuckle|!| Let| me| know| if| you|'d| like| another| one|.| 😄||"
     ]
    }
   ],
   "source": [
    "# https://python.langchain.com/docs/tutorials/chatbot/#streaming\n",
    "\n",
    "config = {\"configurable\": {\"thread_id\": \"abc789\"}}\n",
    "query = \"Hi I'm Todd, please tell me a joke.\"\n",
    "language = \"English\"\n",
    "\n",
    "input_messages = [HumanMessage(query)]\n",
    "for chunk, metadata in app.stream(\n",
    "    {\"messages\": input_messages, \"language\": language},\n",
    "    config,\n",
    "    stream_mode=\"messages\",\n",
    "):\n",
    "    if isinstance(chunk, AIMessage):  # Filter to just model responses\n",
    "        print(chunk.content, end=\"|\")"
   ]
  }
 ],
 "metadata": {
  "kernelspec": {
   "display_name": ".venv",
   "language": "python",
   "name": "python3"
  },
  "language_info": {
   "codemirror_mode": {
    "name": "ipython",
    "version": 3
   },
   "file_extension": ".py",
   "mimetype": "text/x-python",
   "name": "python",
   "nbconvert_exporter": "python",
   "pygments_lexer": "ipython3",
   "version": "3.12.11"
  }
 },
 "nbformat": 4,
 "nbformat_minor": 2
}
