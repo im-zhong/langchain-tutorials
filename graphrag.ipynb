{
 "cells": [
  {
   "cell_type": "code",
   "execution_count": 2,
   "metadata": {},
   "outputs": [],
   "source": [
    "# 2025/6/26\n",
    "# zhangzhong\n",
    "# https://langchain-graphrag.readthedocs.io/en/latest/\n",
    "# https://github.com/microsoft/graphrag\n",
    "# https://arxiv.org/pdf/2404.16130\n",
    "# https://microsoft.github.io/graphrag/get_started/"
   ]
  },
  {
   "cell_type": "code",
   "execution_count": 3,
   "metadata": {},
   "outputs": [],
   "source": [
    "# graphrag tutorial use openai api key\n",
    "# I want to use deepseek chat model and qwen embedding model\n",
    "# I found two issues may be helpful\n",
    "# https://github.com/microsoft/graphrag/issues/374\n",
    "# https://github.com/microsoft/graphrag/issues/524\n",
    "\n",
    "# https://api-docs.deepseek.com/zh-cn/quick_start/pricing\n",
    "# deepseek的上下文长度有64k，足够用来做summarize了"
   ]
  }
 ],
 "metadata": {
  "kernelspec": {
   "display_name": ".venv",
   "language": "python",
   "name": "python3"
  },
  "language_info": {
   "codemirror_mode": {
    "name": "ipython",
    "version": 3
   },
   "file_extension": ".py",
   "mimetype": "text/x-python",
   "name": "python",
   "nbconvert_exporter": "python",
   "pygments_lexer": "ipython3",
   "version": "3.12.11"
  }
 },
 "nbformat": 4,
 "nbformat_minor": 2
}
